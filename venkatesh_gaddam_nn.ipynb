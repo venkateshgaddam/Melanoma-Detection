{
 "cells": [
  {
   "cell_type": "markdown",
   "metadata": {
    "id": "yopjHEMaFspp"
   },
   "source": [
    "## Problem statement:\n",
    "Build a CNN based model which can accurately detect melanoma. Melanoma is a type of cancer that can be deadly if not detected early. It accounts for 75% of skin cancer deaths. A solution which can evaluate images and alert the dermatologists about the presence of melanoma has the potential to reduce a lot of manual effort needed in diagnosis."
   ]
  },
  {
   "cell_type": "code",
   "execution_count": 1,
   "metadata": {
    "colab": {
     "base_uri": "https://localhost:8080/"
    },
    "id": "slpcUW2nGgri",
    "outputId": "61c791e2-7327-4d0a-fbac-bcde19f71105"
   },
   "outputs": [],
   "source": [
    "import pathlib\n",
    "import os\n",
    "import numpy as np\n",
    "import pandas as pd\n",
    "import matplotlib.pyplot as plt\n",
    "import PIL\n",
    "import tensorflow as tf\n",
    "from tensorflow import keras\n",
    "from tensorflow.keras import layers\n",
    "from tensorflow.keras.models import Sequential\n",
    "from tensorflow.keras.optimizers import Adam\n",
    "from tensorflow.keras.callbacks import ModelCheckpoint, EarlyStopping\n",
    "from tensorflow.keras.preprocessing.image import load_img"
   ]
  },
  {
   "cell_type": "code",
   "execution_count": 3,
   "metadata": {},
   "outputs": [],
   "source": [
    "base_dir = pathlib.Path(__file__).parent if '__file__' in globals() else pathlib.Path().resolve()\n",
    "\n",
    "# Define paths for train and test directories relative to the base directory\n",
    "data_dir_train = base_dir / \"data\" / \"Train\"\n",
    "data_dir_test = base_dir / \"data\" / \"Test\""
   ]
  },
  {
   "cell_type": "code",
   "execution_count": null,
   "metadata": {},
   "outputs": [],
   "source": [
    "\n",
    "# Count the number of images in the train and test directories\n",
    "# Using glob to retrieve files/pathnames matching a specified pattern.\n",
    "\n",
    "# Train Image count\n",
    "image_count_train = len(list(data_dir_train.glob('*/*.jpg')))\n",
    "print(\"Number of training images:\", image_count_train)\n",
    "\n",
    "# Test Image count\n",
    "image_count_test = len(list(data_dir_test.glob('*/*.jpg')))\n",
    "print(\"Number of testing images:\", image_count_test)"
   ]
  },
  {
   "cell_type": "markdown",
   "metadata": {
    "id": "HQ6jAHi0Hesp"
   },
   "source": [
    "**Data Visualization**"
   ]
  },
  {
   "cell_type": "code",
   "execution_count": null,
   "metadata": {
    "colab": {
     "base_uri": "https://localhost:8080/",
     "height": 878
    },
    "id": "UfJ9Ebp_HYGj",
    "outputId": "cc11794d-56ab-40be-de95-3da07d510f6c"
   },
   "outputs": [],
   "source": [
    "#Visualize one instance of all the class present in the dataset.\n",
    "\n",
    "#image_dataset_from_directory() will return a tf.data.Dataset that yields batches of images from the subdirectories.\n",
    "#label_mode is categorial, the labels are a float32 tensor of shape (batch_size, num_classes), representing a one-hot encoding of the class index.\n",
    "image_dataset = tf.keras.preprocessing.image_dataset_from_directory(data_dir_train,batch_size=32,image_size=(180,180),\n",
    "                                                                    label_mode='categorical',seed=123)\n",
    "\n",
    "#all the classes of Skin Cancer\n",
    "class_names = image_dataset.class_names\n",
    "\n",
    "#Dictionary to store the path of image as per the class\n",
    "files_path_dict = {}\n",
    "\n",
    "for c in class_names:\n",
    "    files_path_dict[c] = list(map(lambda x:str(data_dir_train)+'/'+c+'/'+x,os.listdir(str(data_dir_train)+'/'+c)))\n",
    "    \n",
    "#Visualize image \n",
    "plt.figure(figsize=(15,15))\n",
    "index = 0\n",
    "for c in class_names:\n",
    "    path_list = files_path_dict[c][:1]\n",
    "    index += 1\n",
    "    plt.subplot(3,3,index)\n",
    "    plt.imshow(load_img(path_list[0],target_size=(180,180)))\n",
    "    plt.title(c)\n",
    "    plt.axis(\"off\")"
   ]
  },
  {
   "cell_type": "markdown",
   "metadata": {
    "id": "tagoG7DBRnVq"
   },
   "source": [
    "**Visualize distribution of classes in the training dataset.**"
   ]
  },
  {
   "cell_type": "code",
   "execution_count": null,
   "metadata": {
    "colab": {
     "base_uri": "https://localhost:8080/",
     "height": 331
    },
    "id": "TzzxmsPCPgO1",
    "outputId": "3fdd1f48-6179-47eb-b978-4a0e1be185c7"
   },
   "outputs": [],
   "source": [
    "def class_distribution_count(directory):\n",
    "    \n",
    "    #count number of image in each classes\n",
    "    count= []\n",
    "    for path in pathlib.Path(directory).iterdir():\n",
    "        if path.is_dir():\n",
    "            count.append(len([name for name in os.listdir(path)\n",
    "                               if os.path.isfile(os.path.join(path, name))]))\n",
    "    \n",
    "    #name of the classes\n",
    "    sub_directory = [name for name in os.listdir(directory)\n",
    "                    if os.path.isdir(os.path.join(directory, name))]\n",
    "    \n",
    "    #return dataframe with image count and class.\n",
    "    return pd.DataFrame(list(zip(sub_directory,count)),columns =['Class', 'No. of Image'])\n",
    "\n",
    "df = class_distribution_count(data_dir_train)\n",
    "df"
   ]
  },
  {
   "cell_type": "code",
   "execution_count": null,
   "metadata": {
    "colab": {
     "base_uri": "https://localhost:8080/",
     "height": 513
    },
    "id": "rfifhsqfSPSe",
    "outputId": "00f8dfb7-b61e-464f-dfc6-1d6e192ab5a2"
   },
   "outputs": [],
   "source": [
    "#Visualize the Number of image in each class.\n",
    "import seaborn as sns\n",
    "plt.figure(figsize=(10, 8))\n",
    "sns.barplot(x=\"No. of Image\", y=\"Class\", data=df,\n",
    "            label=\"Class\")"
   ]
  },
  {
   "cell_type": "markdown",
   "metadata": {
    "id": "Y5aGnAiNSeUZ"
   },
   "source": [
    "There is a class imbalance to solve this using a python package  Augmentor (https://augmentor.readthedocs.io/en/master/) to add more samples across all classes so that none of the classes have very few samples."
   ]
  },
  {
   "cell_type": "code",
   "execution_count": null,
   "metadata": {
    "colab": {
     "base_uri": "https://localhost:8080/"
    },
    "id": "wGjc-ATtSx6a",
    "outputId": "bcfd00c7-08bc-44b9-84b0-e67172d076bc"
   },
   "outputs": [],
   "source": [
    "path_to_training_dataset=\"/content/Skin cancer ISIC The International Skin Imaging Collaboration/Train/\"\n",
    "import Augmentor\n",
    "for i in class_names:\n",
    "    p = Augmentor.Pipeline(path_to_training_dataset + i)\n",
    "    p.rotate(probability=0.7, max_left_rotation=10, max_right_rotation=10)\n",
    "    p.sample(500)  #Adding 500 samples per class to make sure that none of the classes are sparse"
   ]
  },
  {
   "cell_type": "code",
   "execution_count": null,
   "metadata": {
    "colab": {
     "base_uri": "https://localhost:8080/"
    },
    "id": "7Mk8nOl1Uo-j",
    "outputId": "66cb37d1-58f7-48fb-84c0-386ac200593f"
   },
   "outputs": [],
   "source": [
    "#Count total number of image generated by Augmentor.\n",
    "image_count_train = len(list(data_dir_train.glob('*/output/*.jpg')))\n",
    "print(image_count_train)"
   ]
  },
  {
   "cell_type": "markdown",
   "metadata": {
    "id": "UAAYk_frl3ag"
   },
   "source": [
    "**Model Building**"
   ]
  },
  {
   "cell_type": "code",
   "execution_count": null,
   "metadata": {
    "colab": {
     "base_uri": "https://localhost:8080/"
    },
    "id": "snX47u7G6lH2",
    "outputId": "d5fda397-8509-461d-ce7a-985c8e1a2755"
   },
   "outputs": [],
   "source": [
    "# train dataset \n",
    "train_ds = tf.keras.preprocessing.image_dataset_from_directory(data_dir_train, batch_size=32,\n",
    "                                                               image_size=(180,180), label_mode='categorical',\n",
    "                                                               seed=123,subset=\"training\",\n",
    "                                                               validation_split=0.2)\n",
    "\n",
    "#label_mode is categorial, the labels are a float32 tensor of shape (batch_size, num_classes),\n",
    "#representing a one-hot encoding of the class index."
   ]
  },
  {
   "cell_type": "code",
   "execution_count": null,
   "metadata": {
    "colab": {
     "base_uri": "https://localhost:8080/"
    },
    "id": "2y-MuNHc6w9l",
    "outputId": "d2534817-6e95-4cd5-c094-1076cf9c4ecd",
    "scrolled": true
   },
   "outputs": [],
   "source": [
    "# validation dataset \n",
    "val_ds =tf.keras.preprocessing.image_dataset_from_directory(data_dir_train,batch_size=32,\n",
    "                                                            image_size=(180,180), label_mode='categorical',\n",
    "                                                            seed=123,subset=\"validation\",\n",
    "                                                            validation_split=0.2)"
   ]
  },
  {
   "cell_type": "code",
   "execution_count": 14,
   "metadata": {
    "cellView": "code",
    "id": "B43gW84Ao5cy"
   },
   "outputs": [],
   "source": [
    "#tf.data.experimental.AUTOTUNE defines appropriate number of processes that are free for working.\n",
    "\n",
    "#`Dataset.cache()` keeps the images in memory after they're loaded off disk during the first epoch.\n",
    "\n",
    "#`Dataset.prefetch()` overlaps data preprocessing and model execution while training.\n",
    "\n",
    "\n",
    "AUTOTUNE = tf.data.experimental.AUTOTUNE\n",
    "train_ds = train_ds.cache().shuffle(1000).prefetch(buffer_size=AUTOTUNE)\n",
    "val_ds = val_ds.cache().prefetch(buffer_size=AUTOTUNE)"
   ]
  },
  {
   "cell_type": "code",
   "execution_count": null,
   "metadata": {
    "colab": {
     "base_uri": "https://localhost:8080/"
    },
    "id": "wYwPwKFEEDtJ",
    "outputId": "42adba40-b1e1-467d-d411-5d67abc1eca8"
   },
   "outputs": [],
   "source": [
    "#CNN Model Architecture\n",
    "\n",
    "#Sequential allows you to create models layer-by-layer  \n",
    "model = Sequential()\n",
    "\n",
    "model.add(layers.experimental.preprocessing.Rescaling(1./255,input_shape=(180,180,3)))   #Rescaling Layer\n",
    "\n",
    "#First Convulation layer\n",
    "model.add(layers.Conv2D(32,kernel_size=(3,3),activation='relu'))\n",
    "model.add(layers.MaxPool2D(pool_size=(2,2)))\n",
    "\n",
    "#Second Convulation Layer\n",
    "model.add(layers.Conv2D(64,kernel_size=(3,3),activation='relu'))\n",
    "model.add(layers.MaxPool2D(pool_size=(2,2)))\n",
    "\n",
    "#Third Convulation Layer\n",
    "model.add(layers.Conv2D(128,kernel_size=(3,3),activation='relu'))\n",
    "model.add(layers.MaxPool2D(pool_size=(2,2)))\n",
    "\n",
    "#Dropout layer with 50% Fraction of the input units to drop.\n",
    "model.add(layers.Dropout(0.5))\n",
    "\n",
    "#Flatten Layer\n",
    "##Keras.layers.flatten function flattens the multi-dimensional input tensors into a single dimension.\n",
    "model.add(layers.Flatten())\n",
    "\n",
    "#Dense Layer\n",
    "model.add(layers.Dense(128,activation='relu'))\n",
    "\n",
    "#Dropout layer with 25% Fraction of the input units to drop.\n",
    "model.add(layers.Dropout(0.25))\n",
    "\n",
    "#Dense Layer with softmax activation function.\n",
    "#Softmax is an activation function that scales numbers/logits into probabilities.\n",
    "model.add(layers.Dense(len(class_names),activation='softmax'))\n",
    "\n",
    "model.summary()"
   ]
  },
  {
   "cell_type": "code",
   "execution_count": null,
   "metadata": {
    "colab": {
     "base_uri": "https://localhost:8080/",
     "height": 1000
    },
    "id": "jr56VzzvtsLA",
    "outputId": "48208794-41db-4ec6-f664-a6f4695c5d3f"
   },
   "outputs": [],
   "source": [
    "# vizualizing the model \n",
    "from tensorflow.keras.utils import plot_model\n",
    "plot_model(model, to_file='model_plot.png', show_shapes=True, show_layer_names=True)"
   ]
  },
  {
   "cell_type": "code",
   "execution_count": 17,
   "metadata": {
    "id": "woAdr-mXqRKE"
   },
   "outputs": [],
   "source": [
    "#Compile the Model\n",
    "\n",
    "#Adam optimization: is a stochastic gradient descent method that is based on adaptive estimation of first-order and second-order moments.\n",
    "#categorical_crossentropy: Used as a loss function for multi-class classification model where there are two or more output labels.\n",
    "\n",
    "model.compile(optimizer=\"Adam\",loss=\"categorical_crossentropy\",metrics=[\"accuracy\"])\n",
    "\n",
    "#ModelCheckpoint callback is used in conjunction with training using model.fit() to save a model or weights (in a checkpoint file) at some interval,\n",
    "#so the model or weights can be loaded later to continue the training from the state saved.\n",
    "checkpoint = ModelCheckpoint(\"model.h5\",monitor=\"val_accuracy\",save_best_only=True,mode=\"auto\",verbose=1)\n",
    "\n",
    "#Stop training when a monitored metric has stopped improving.\n",
    "earlystop = EarlyStopping(monitor=\"val_accuracy\",patience=5,mode=\"auto\",verbose=1)"
   ]
  },
  {
   "cell_type": "code",
   "execution_count": null,
   "metadata": {
    "colab": {
     "base_uri": "https://localhost:8080/"
    },
    "id": "wnMSvuzkqx-q",
    "outputId": "797bcb80-d59b-4d1b-8bdc-e58b93199004"
   },
   "outputs": [],
   "source": [
    "# Train the model\n",
    "epochs = 20\n",
    "history = model.fit(train_ds, validation_data=val_ds, epochs=epochs,callbacks=[checkpoint,earlystop])"
   ]
  },
  {
   "cell_type": "code",
   "execution_count": null,
   "metadata": {
    "colab": {
     "base_uri": "https://localhost:8080/",
     "height": 621
    },
    "id": "weY4vnJ3rK4u",
    "outputId": "614f41b2-133a-4f84-ff5b-b1ad79740048"
   },
   "outputs": [],
   "source": [
    "# Plot the training curves\n",
    "\n",
    "epochs_range = range(earlystop.stopped_epoch+1)\n",
    "\n",
    "plt.figure(figsize=(15, 10))\n",
    "plt.subplot(1, 2, 1)\n",
    "\n",
    "#Plot Model Accuracy\n",
    "plt.plot(history.history['accuracy'])\n",
    "plt.plot(history.history['val_accuracy'])\n",
    "plt.title('model accuracy')\n",
    "plt.ylabel('accuracy')\n",
    "plt.xlabel(epochs_range)\n",
    "plt.legend(['train', 'val'], loc='upper left')\n",
    "\n",
    "#Plot Model Loss\n",
    "plt.subplot(1, 2, 2)\n",
    "plt.plot(history.history['loss'])\n",
    "plt.plot(history.history['val_loss'])\n",
    "plt.title('model loss')\n",
    "plt.ylabel('loss')\n",
    "plt.xlabel(epochs_range)\n",
    "plt.legend(['train', 'val'], loc='upper left')\n",
    "plt.show()\n"
   ]
  },
  {
   "cell_type": "markdown",
   "metadata": {
    "id": "H4kxzWIc7fck"
   },
   "source": [
    "## Model Prediction"
   ]
  },
  {
   "cell_type": "code",
   "execution_count": null,
   "metadata": {
    "colab": {
     "base_uri": "https://localhost:8080/",
     "height": 303
    },
    "id": "Uc9u92x28N4m",
    "outputId": "d16d0333-b6da-4fac-dfb9-53e0a2ac1006"
   },
   "outputs": [],
   "source": [
    "from glob import glob\n",
    "Test_image_path = os.path.join(data_dir_test, class_names[1], '*')\n",
    "Test_image = glob(Test_image_path)\n",
    "Test_image = load_img(Test_image[-1],target_size=(180,180,3))\n",
    "plt.imshow(Test_image)\n",
    "plt.grid(False)\n",
    "\n",
    "img = np.expand_dims(Test_image,axis=0)\n",
    "pred = model.predict(img)\n",
    "pred = np.argmax(pred)\n",
    "pred_class = class_names[pred]\n",
    "print(\"Actual Class \"+ class_names[1] +'\\n'+ \"Predictive Class \"+pred_class )"
   ]
  }
 ],
 "metadata": {
  "accelerator": "GPU",
  "colab": {
   "collapsed_sections": [],
   "name": "Melanoma_SkinCancer_Detection.ipynb",
   "provenance": []
  },
  "kernelspec": {
   "display_name": "Python 3",
   "language": "python",
   "name": "python3"
  },
  "language_info": {
   "codemirror_mode": {
    "name": "ipython",
    "version": 3
   },
   "file_extension": ".py",
   "mimetype": "text/x-python",
   "name": "python",
   "nbconvert_exporter": "python",
   "pygments_lexer": "ipython3",
   "version": "3.12.2"
  }
 },
 "nbformat": 4,
 "nbformat_minor": 1
}
